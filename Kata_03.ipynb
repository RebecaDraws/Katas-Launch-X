{
 "cells": [
  {
   "cell_type": "markdown",
   "metadata": {},
   "source": [
    "## Escribir declaraciones if, else, y elif\n",
    "\n",
    "Instrucción if en python"
   ]
  },
  {
   "cell_type": "code",
   "execution_count": null,
   "metadata": {},
   "outputs": [],
   "source": [
    "a = 10\n",
    "b = 11\n",
    "if a<b:\n",
    "    print(a)"
   ]
  },
  {
   "cell_type": "markdown",
   "metadata": {},
   "source": [
    "Instrucción else en python"
   ]
  },
  {
   "cell_type": "code",
   "execution_count": null,
   "metadata": {},
   "outputs": [],
   "source": [
    "print(\"Encontrar el número más grande\")\n",
    "numero_a = input(\"Primer número\")\n",
    "numero_b = input(\"Segundo número\")\n",
    "if numero_a > numero_b:\n",
    "    print(\"el numero más grande es: \" + str(numero_a))\n",
    "\n",
    "else:\n",
    "    print(\"el numero más grande es: \" + str(numero_b))\n",
    "\n"
   ]
  },
  {
   "cell_type": "markdown",
   "metadata": {},
   "source": [
    "Instrucción elif e instrucciones anidadas en pyhton"
   ]
  },
  {
   "cell_type": "code",
   "execution_count": null,
   "metadata": {},
   "outputs": [],
   "source": [
    "print(\"Eres de alguno de estos estados?\")\n",
    "print(\"solo contesta son si o no\")\n",
    "Jalisco = input(\"eres de Jalisco?\")\n",
    "if Jalisco == \"si\":\n",
    "    print(\"tu vives en Jalisco\")\n",
    "elif Jalisco == \"no\":\n",
    "    Monterrey = input(\"Vives en Monterrey? \")\n",
    "    if Monterrey == \"si\":\n",
    "        print(\"tu vives en Monterrey\")\n",
    "    elif Monterrey == \"no\":\n",
    "        EDOMEX = input(\"Vives en EDOMEX?\")\n",
    "        if EDOMEX == \"si\":\n",
    "            print(\"tu vives en EDOMEX\")\n",
    "        else:\n",
    "            print(\"no se donde vives\")\n",
    "else:\n",
    "    print(\"no te entiendo\")\n"
   ]
  },
  {
   "cell_type": "markdown",
   "metadata": {},
   "source": [
    "Advertencia de posible daño"
   ]
  },
  {
   "cell_type": "code",
   "execution_count": null,
   "metadata": {},
   "outputs": [],
   "source": [
    "Asteroide = 49\n",
    "if Asteroide > 25:\n",
    "    print(\"PELIGRO de asteroide, velocidad aprox de: \" + str(Asteroide) + \"km/s\" )\n",
    "else:\n",
    "    print(\"todo en orden\")\n"
   ]
  },
  {
   "cell_type": "markdown",
   "metadata": {},
   "source": [
    "Rayo de luz"
   ]
  },
  {
   "cell_type": "code",
   "execution_count": null,
   "metadata": {},
   "outputs": [],
   "source": [
    "Asteroide = 25\n",
    "\n",
    "if Asteroide == 20:\n",
    "    print(\"Se acerca un asteroide con una velocidad igual a 20 km/s, hay probabilidad de ver un destello de luz en el cielo\")\n",
    "elif Asteroide > 20:\n",
    "    print(\"Se acerca un asteroide con una velocidad mayor a 20 km/s, se vera un destello de luz en el cielo \")\n",
    "else:\n",
    "    print(\"Se acerca un asteroide con una velocidad menor a 20 km/s, no es posible que se vea un destello azul en el cielo\")\n"
   ]
  },
  {
   "cell_type": "markdown",
   "metadata": {},
   "source": [
    "Operadores AND y OR"
   ]
  },
  {
   "cell_type": "code",
   "execution_count": 4,
   "metadata": {},
   "outputs": [
    {
     "name": "stdout",
     "output_type": "stream",
     "text": [
      "ADVERTENCIA!! Se acerca un asteroide de un tamaño peligroso\n",
      "Podrás ver una luz en cielo\n"
     ]
    }
   ],
   "source": [
    "Tamaño_asteroide = 30\n",
    "Velocidad_asteroide = 21\n",
    "\n",
    "if Tamaño_asteroide > 25 and Tamaño_asteroide < 1000:\n",
    "    print(\"ADVERTENCIA!! Se acerca un asteroide de un tamaño peligroso\")\n",
    "    if Velocidad_asteroide > 20 or Velocidad_asteroide == 20:\n",
    "        print(\"Podrás ver una luz en cielo\")\n",
    "        if Velocidad_asteroide > 25:\n",
    "            print(\"La velocidad calculadada es mayor a 25 km/s\")\n",
    "    else:\n",
    "        print(\"el asteroide es muy lento\")\n",
    "elif Tamaño_asteroide > 1000:\n",
    "    print(\"PELIGRO INMINENTE!!! Se acerca un asteroide mayor a 1000 metros \")\n",
    "    if Velocidad_asteroide > 20 or Velocidad_asteroide == 20:\n",
    "        print(\"Podrás ver una luz en cielo\")\n",
    "        if Velocidad_asteroide > 25:\n",
    "            print(\"La velocidad calculadada es mayor a 25 km/s\")\n",
    "    else:\n",
    "        print(\"el asteroide es muy lento\")\n",
    "elif Tamaño_asteroide < 25:\n",
    "    print(\"Todo en orden\")\n",
    "    if Velocidad_asteroide > 20 or Velocidad_asteroide == 20:\n",
    "        print(\"Podrás ver una luz en cielo\")\n",
    "    else:\n",
    "        Velocidad_asteroide\n",
    "else:\n",
    "    print(\"Todo en orden\")"
   ]
  }
 ],
 "metadata": {
  "interpreter": {
   "hash": "3e9dc76609e876f93a002d072134b50ee5e38b45a6be20c9eadd33b5f9f5c906"
  },
  "kernelspec": {
   "display_name": "Python 3.10.2 64-bit",
   "language": "python",
   "name": "python3"
  },
  "language_info": {
   "codemirror_mode": {
    "name": "ipython",
    "version": 3
   },
   "file_extension": ".py",
   "mimetype": "text/x-python",
   "name": "python",
   "nbconvert_exporter": "python",
   "pygments_lexer": "ipython3",
   "version": "3.10.2"
  },
  "orig_nbformat": 4
 },
 "nbformat": 4,
 "nbformat_minor": 2
}
