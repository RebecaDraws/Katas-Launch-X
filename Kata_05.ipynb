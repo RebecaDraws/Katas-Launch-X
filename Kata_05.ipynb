{
 "cells": [
  {
   "cell_type": "markdown",
   "metadata": {},
   "source": [
    "## Utilizar operadores aritmeticos"
   ]
  },
  {
   "cell_type": "markdown",
   "metadata": {},
   "source": [
    "### Ejercicio 1"
   ]
  },
  {
   "cell_type": "code",
   "execution_count": null,
   "metadata": {},
   "outputs": [],
   "source": [
    "Distancia_Tierra = 159597870\n",
    "Distancia_Júpiter = 778547200"
   ]
  },
  {
   "cell_type": "code",
   "execution_count": null,
   "metadata": {},
   "outputs": [],
   "source": [
    "diferencia = Distancia_Júpiter - Distancia_Tierra\n",
    "print(diferencia)\n",
    "print(int(diferencia*0.621))"
   ]
  },
  {
   "cell_type": "markdown",
   "metadata": {},
   "source": [
    "### Ejercicio 2"
   ]
  },
  {
   "cell_type": "code",
   "execution_count": 14,
   "metadata": {},
   "outputs": [],
   "source": [
    "Marte_dist = input(\"Cual es la distancia entre el sol y marte?\")\n",
    "Tierra_dist = input(\"¿Cual es la distancia entre el sol y la tierra?\")"
   ]
  },
  {
   "cell_type": "code",
   "execution_count": 15,
   "metadata": {},
   "outputs": [],
   "source": [
    "Marte_int = int(Marte_dist)\n",
    "Tierra_int = int(Tierra_dist)"
   ]
  },
  {
   "cell_type": "code",
   "execution_count": 16,
   "metadata": {},
   "outputs": [
    {
     "name": "stdout",
     "output_type": "stream",
     "text": [
      "La distancia entre Marte y la Tierra es de: 50 metros \n",
      "La distancia entre Marte y la Tierra es de: 31.05 meillas \n"
     ]
    }
   ],
   "source": [
    "Planeta_dist = Tierra_int - Marte_int\n",
    "print(f\"\"\"La distancia entre Marte y la Tierra es de: {abs(Planeta_dist)} metros \"\"\")\n",
    "print(f\"\"\"La distancia entre Marte y la Tierra es de: {abs(Planeta_dist)*0.621} millas \"\"\")"
   ]
  }
 ],
 "metadata": {
  "interpreter": {
   "hash": "3e9dc76609e876f93a002d072134b50ee5e38b45a6be20c9eadd33b5f9f5c906"
  },
  "kernelspec": {
   "display_name": "Python 3.10.2 64-bit",
   "language": "python",
   "name": "python3"
  },
  "language_info": {
   "codemirror_mode": {
    "name": "ipython",
    "version": 3
   },
   "file_extension": ".py",
   "mimetype": "text/x-python",
   "name": "python",
   "nbconvert_exporter": "python",
   "pygments_lexer": "ipython3",
   "version": "3.10.2"
  },
  "orig_nbformat": 4
 },
 "nbformat": 4,
 "nbformat_minor": 2
}
