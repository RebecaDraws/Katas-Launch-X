{
 "cells": [
  {
   "cell_type": "markdown",
   "metadata": {},
   "source": [
    "## Uso de funciones en Python\n",
    "\n",
    "### Ejercicio 1"
   ]
  },
  {
   "cell_type": "code",
   "execution_count": null,
   "metadata": {},
   "outputs": [],
   "source": [
    "def combustible(tanque1,tanque2,tanque3):\n",
    "    prom_comb = (tanque1 + tanque2 + tanque3)/3\n",
    "    print(f\"\"\"Promedio: {prom_comb}\n",
    "    Combustible 1: {tanque1}\n",
    "    Combustible 2: {tanque2}\n",
    "    Combustible 3: {tanque3}\"\"\")\n",
    "\n",
    "print(combustible(0,0,0))\n",
    "\n",
    "\n"
   ]
  },
  {
   "cell_type": "code",
   "execution_count": null,
   "metadata": {},
   "outputs": [],
   "source": [
    "def promedio(tanques):\n",
    "    num_tanques = len(tanques)\n",
    "    valor_tanques = sum(tanques)\n",
    "    return valor_tanques/num_tanques\n",
    "promedio([5,5,5])\n"
   ]
  },
  {
   "cell_type": "code",
   "execution_count": null,
   "metadata": {},
   "outputs": [],
   "source": [
    "def combustible(tanque1,tanque2,tanque3):\n",
    "    print(f\"\"\"Promedio: {promedio([tanque1,tanque2,tanque3])}\n",
    "    Combustible 1: {tanque1}\n",
    "    Combustible 2: {tanque2}\n",
    "    Combustible 3: {tanque3}\"\"\")\n",
    "combustible(0,5,0)\n"
   ]
  },
  {
   "cell_type": "markdown",
   "metadata": {},
   "source": [
    "### Ejercicio 2"
   ]
  },
  {
   "cell_type": "code",
   "execution_count": null,
   "metadata": {},
   "outputs": [],
   "source": [
    "def informe_cohete(hora, tiempo, destino, tanque_ext, tanque_int):\n",
    "    print(f\"\"\"             Reporte de cohete \n",
    "    {\"-\"*40}\n",
    "    Destino: {destino}\n",
    "    Hora de despegue: {hora} horas\n",
    "    Tiempo de vuelo: {tiempo} horas\n",
    "    Nivel de tanque externo {tanque_ext} %\n",
    "    Nivel de tanque interno {tanque_int} % \"\"\")\n",
    "\n",
    "informe_cohete(\"10:35\", 3, \"Luna\", 89, 99)\n",
    "\n"
   ]
  },
  {
   "cell_type": "code",
   "execution_count": null,
   "metadata": {},
   "outputs": [],
   "source": [
    "def informe_cohete(destino, hora, *minutos, **tanques):\n",
    "    print(f\"\"\"             Reporte de cohete \n",
    "    {\"-\"*40}\n",
    "    Destino: {destino}\n",
    "    Hora de despegue: {hora} horas\n",
    "    Tiempo de vuelo: {sum(minutos)} horas\n",
    "    Total de nivel de tanques {sum(tanques.values())} litros\"\"\")\n",
    "\n",
    "informe_cohete(\"La luna\", \"10:35\", 10, 20, 30, interno=55,externo=45)"
   ]
  },
  {
   "cell_type": "code",
   "execution_count": null,
   "metadata": {},
   "outputs": [],
   "source": [
    "def informe_cohete(destino, hora, *minutos, **tanques):\n",
    "    print(f\"\"\"             Reporte de cohete \n",
    "    {\"-\"*40}\n",
    "    Destino: {destino}\n",
    "    Hora de despegue: {hora} horas\n",
    "    Tiempo de vuelo: {sum(minutos)} horas\n",
    "    Total de nivel de tanques {sum(tanques.values())} litros\n",
    "    Detalles de tanques:\"\"\")\n",
    "    for tanque, valor in tanques.items():\n",
    "        print(f\"        tanque {tanque} tiene {valor} litros\")\n",
    "    \n",
    "\n",
    "informe_cohete(\"La luna\", \"10:35\", 10, 20, 30, interno=55, externo=45)"
   ]
  }
 ],
 "metadata": {
  "interpreter": {
   "hash": "3e9dc76609e876f93a002d072134b50ee5e38b45a6be20c9eadd33b5f9f5c906"
  },
  "kernelspec": {
   "display_name": "Python 3.10.2 64-bit",
   "language": "python",
   "name": "python3"
  },
  "language_info": {
   "codemirror_mode": {
    "name": "ipython",
    "version": 3
   },
   "file_extension": ".py",
   "mimetype": "text/x-python",
   "name": "python",
   "nbconvert_exporter": "python",
   "pygments_lexer": "ipython3",
   "version": "3.10.2"
  },
  "orig_nbformat": 4
 },
 "nbformat": 4,
 "nbformat_minor": 2
}
