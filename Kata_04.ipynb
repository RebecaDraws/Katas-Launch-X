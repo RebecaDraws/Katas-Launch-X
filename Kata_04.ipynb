{
 "cells": [
  {
   "cell_type": "markdown",
   "metadata": {},
   "source": [
    "## Cadenas de pyhton\n",
    "\n",
    "### Ejercicio 1"
   ]
  },
  {
   "cell_type": "markdown",
   "metadata": {},
   "source": [
    "Separando texto\n"
   ]
  },
  {
   "cell_type": "code",
   "execution_count": 94,
   "metadata": {},
   "outputs": [
    {
     "data": {
      "text/plain": [
       "['Interesting facts about the Moon:',\n",
       " \"The Moon is Earth's only satellite\",\n",
       " 'There are several interesting facts about the Moon and how it affects life here on Earth',\n",
       " 'On average, the Moon moves 4cm away from the Earth every year',\n",
       " 'This yearly drift is not significant enough to cause immediate effects on Earth',\n",
       " 'The highest daylight temperature of the Moon is 127 C.']"
      ]
     },
     "execution_count": 94,
     "metadata": {},
     "output_type": "execute_result"
    }
   ],
   "source": [
    "texto = \"Interesting facts about the Moon:. The Moon is Earth's only satellite. There are several interesting facts about the Moon and how it affects life here on Earth. On average, the Moon moves 4cm away from the Earth every year. This yearly drift is not significant enough to cause immediate effects on Earth. The highest daylight temperature of the Moon is 127 C.\"\n",
    "texto.split(\". \")"
   ]
  },
  {
   "cell_type": "markdown",
   "metadata": {},
   "source": [
    "Definiendo palabras clave"
   ]
  },
  {
   "cell_type": "code",
   "execution_count": 95,
   "metadata": {},
   "outputs": [
    {
     "name": "stdout",
     "output_type": "stream",
     "text": [
      "Interesting facts about the Moon:\n",
      "The Moon is Earth's only satellite --> no es un hecho\n",
      "There are several interesting facts about the Moon and how it affects life here on Earth --> no es un hecho\n",
      "On average, the Moon moves 4cm away from the Earth every year --> es un hecho\n",
      "This yearly drift is not significant enough to cause immediate effects on Earth --> no es un hecho\n",
      "The highest daylight temperature of the Moon is 127 C. --> es un hecho\n"
     ]
    }
   ],
   "source": [
    "for item in texto.split(\". \"):\n",
    "    if item.endswith(\":\"):\n",
    "        print(item)\n",
    "    elif \"average\" in item:\n",
    "        print(item + \" --> es un hecho\" )\n",
    "    elif \"temperature\" in item:\n",
    "        print(item + \" --> es un hecho\" )\n",
    "    elif \"distance\" in item:\n",
    "        print(item + \" --> es un hecho\" )\n",
    "    else:\n",
    "        print(item + \" --> no es un hecho\" )"
   ]
  },
  {
   "cell_type": "markdown",
   "metadata": {},
   "source": [
    "Imprimir Hechos"
   ]
  },
  {
   "cell_type": "code",
   "execution_count": 96,
   "metadata": {},
   "outputs": [
    {
     "name": "stdout",
     "output_type": "stream",
     "text": [
      "Interesting facts about the Moon:\n",
      "On average, the Moon moves 4cm away from the Earth every year\n",
      "The highest daylight temperature of the Moon is 127 C.\n"
     ]
    }
   ],
   "source": [
    "for item in texto.split(\". \"):\n",
    "    if item.endswith(\":\"):\n",
    "        print(item)\n",
    "    elif \"average\" in item:\n",
    "        print(item)\n",
    "    elif \"temperature\" in item:\n",
    "        print(item)\n",
    "    elif \"distance\" in item:\n",
    "        print(item)\n",
    "    else:\n",
    "        item"
   ]
  },
  {
   "cell_type": "markdown",
   "metadata": {},
   "source": [
    "Remplazando C por Celsius"
   ]
  },
  {
   "cell_type": "code",
   "execution_count": 97,
   "metadata": {},
   "outputs": [
    {
     "name": "stdout",
     "output_type": "stream",
     "text": [
      "Interesting facts about the Moon:\n",
      "The Moon is Earth's only satellite\n",
      "There are several interesting facts about the Moon and how it affects life here on Earth\n",
      "On average, the Moon moves 4cm away from the Earth every year\n",
      "This yearly drift is not significant enough to cause immediate effects on Earth\n",
      "The highest daylight temperature of the Moon is 127 Celsius.\n"
     ]
    }
   ],
   "source": [
    "for item in texto.split(\". \"):\n",
    "    if item.endswith(\":\"):\n",
    "        print(item)\n",
    "    elif \"C\" in item:\n",
    "        print(item.replace('C', 'Celsius'))\n",
    "    else:\n",
    "        print(item)\n",
    "    "
   ]
  },
  {
   "cell_type": "markdown",
   "metadata": {},
   "source": [
    "### Ejercicio 2"
   ]
  },
  {
   "cell_type": "code",
   "execution_count": 98,
   "metadata": {},
   "outputs": [],
   "source": [
    "nombre = \"Moon\"\n",
    "gravedad = 0.00162\n",
    "planeta = \"Earth\"\n",
    "\n",
    "#planeta = \"Marte\"\n",
    "#gravedad = 0.00143\n",
    "#nombre = \"Ganímedes\""
   ]
  },
  {
   "cell_type": "code",
   "execution_count": 99,
   "metadata": {},
   "outputs": [
    {
     "data": {
      "text/plain": [
       "'Caracteristicas De La Luna'"
      ]
     },
     "execution_count": 99,
     "metadata": {},
     "output_type": "execute_result"
    }
   ],
   "source": [
    "titulo = \"Caracteristicas de la luna\"\n",
    "f\"{titulo.title()}\""
   ]
  },
  {
   "cell_type": "code",
   "execution_count": 100,
   "metadata": {},
   "outputs": [
    {
     "name": "stdout",
     "output_type": "stream",
     "text": [
      " Nombre del planeta: Earth \n",
      "Gravedad en Moon: 1.6199999999999999 m/s2 \n"
     ]
    }
   ],
   "source": [
    "cadena = f\"\"\"Nombre del planeta: {planeta} \n",
    "Gravedad en {nombre}: {gravedad * 1000} m/s2 \"\"\"\n",
    "print(cadena)"
   ]
  },
  {
   "cell_type": "code",
   "execution_count": 101,
   "metadata": {},
   "outputs": [
    {
     "name": "stdout",
     "output_type": "stream",
     "text": [
      "Caracteristicas De La Luna\n",
      " ------------------------------\n",
      " Nombre del planeta: Earth \n",
      "Gravedad en Moon: 1.6199999999999999 m/s2  \n",
      "\n"
     ]
    }
   ],
   "source": [
    "unión = f\"\"\"{titulo.title()}\n",
    "{\"-\"*30}\n",
    "{cadena} \n",
    "\"\"\" \n",
    "print(unión)"
   ]
  },
  {
   "cell_type": "code",
   "execution_count": 102,
   "metadata": {},
   "outputs": [],
   "source": [
    "planeta = \"Marte\"\n",
    "gravedad = 0.00143\n",
    "nombre = \"Ganímedes\""
   ]
  },
  {
   "cell_type": "code",
   "execution_count": 103,
   "metadata": {},
   "outputs": [
    {
     "name": "stdout",
     "output_type": "stream",
     "text": [
      "Caracteristicas De La Luna\n",
      " ------------------------------\n",
      " Nombre del planeta: Earth \n",
      "Gravedad en Moon: 1.6199999999999999 m/s2  \n",
      "\n"
     ]
    }
   ],
   "source": [
    "print(unión)"
   ]
  },
  {
   "cell_type": "code",
   "execution_count": 115,
   "metadata": {},
   "outputs": [
    {
     "name": "stdout",
     "output_type": "stream",
     "text": [
      "Caracteristicas de gravedad de Ganímedes\n",
      "----------------------------------------\n",
      "Nombre del planeta: Marte \n",
      "Gravedad en Ganímedes: 1.4300000000000002 m/s2 \n"
     ]
    }
   ],
   "source": [
    "cadena_dos = f\"\"\"Caracteristicas de gravedad de {nombre}\n",
    "{\"-\"*40}\n",
    "Nombre del planeta: {planeta} \n",
    "Gravedad en {nombre}: {gravedad * 1000} m/s2 \"\"\"\n",
    "print(cadena_dos.format(nombre=nombre, planeta=planeta, gravedad=gravedad))\n"
   ]
  }
 ],
 "metadata": {
  "interpreter": {
   "hash": "3e9dc76609e876f93a002d072134b50ee5e38b45a6be20c9eadd33b5f9f5c906"
  },
  "kernelspec": {
   "display_name": "Python 3.10.2 64-bit",
   "language": "python",
   "name": "python3"
  },
  "language_info": {
   "codemirror_mode": {
    "name": "ipython",
    "version": 3
   },
   "file_extension": ".py",
   "mimetype": "text/x-python",
   "name": "python",
   "nbconvert_exporter": "python",
   "pygments_lexer": "ipython3",
   "version": "3.10.2"
  },
  "orig_nbformat": 4
 },
 "nbformat": 4,
 "nbformat_minor": 2
}
