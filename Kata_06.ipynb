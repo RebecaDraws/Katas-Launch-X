{
 "cells": [
  {
   "cell_type": "markdown",
   "metadata": {},
   "source": [
    "## Crear y usar listas de Python\n",
    "\n",
    "### Ejercicio 1"
   ]
  },
  {
   "cell_type": "code",
   "execution_count": null,
   "metadata": {},
   "outputs": [],
   "source": [
    "planetas = ['Mercurio', 'Venus', 'Tierra', 'Marte', 'Jupiter', 'Saturno', 'Urano', 'Neptuno']\n",
    "\n",
    "planetas"
   ]
  },
  {
   "cell_type": "code",
   "execution_count": null,
   "metadata": {},
   "outputs": [],
   "source": [
    "numero_de_planetas = len(planetas)\n",
    "print(\"en total hay\",numero_de_planetas, \"planetas\")\n",
    "\n",
    "planetas.append(\"Pluton\")\n",
    "numero_de_planetas = len(planetas)\n",
    "print(\"en total hay\",numero_de_planetas, \"planetas\")\n"
   ]
  },
  {
   "cell_type": "markdown",
   "metadata": {},
   "source": [
    "### Ejercicio 2"
   ]
  },
  {
   "cell_type": "code",
   "execution_count": 51,
   "metadata": {},
   "outputs": [],
   "source": [
    "planetas = ['Mercurio', 'Venus', 'Tierra', 'Marte', 'Jupiter', 'Saturno', 'Urano', 'Neptuno']"
   ]
  },
  {
   "cell_type": "code",
   "execution_count": 52,
   "metadata": {},
   "outputs": [],
   "source": [
    "entrada = input(\"¿Que planeta deseas buscar?(escribelo con la primera letra mayuscula)\")\n"
   ]
  },
  {
   "cell_type": "code",
   "execution_count": 53,
   "metadata": {},
   "outputs": [
    {
     "name": "stdout",
     "output_type": "stream",
     "text": [
      "Marte es el planeta número 4 mas cercano al sol\n"
     ]
    }
   ],
   "source": [
    "busca = planetas.index(entrada)\n",
    "print(f\"\"\"{entrada} es el planeta número {busca + 1} mas cercano al sol\"\"\" )\n"
   ]
  },
  {
   "cell_type": "code",
   "execution_count": 54,
   "metadata": {},
   "outputs": [
    {
     "name": "stdout",
     "output_type": "stream",
     "text": [
      "Aquí estan los planetas aún más cercanos al sol que Marte:\n",
      "['Mercurio', 'Venus', 'Tierra']\n"
     ]
    }
   ],
   "source": [
    "print(f\"Aquí estan los planetas aún más cercanos al sol que {entrada}:\"\"\")\n",
    "print( planetas [0:busca])"
   ]
  },
  {
   "cell_type": "code",
   "execution_count": 55,
   "metadata": {},
   "outputs": [
    {
     "name": "stdout",
     "output_type": "stream",
     "text": [
      "Aquí estan los planetas más lejos del sol que Marte:\n",
      "['Jupiter', 'Saturno', 'Urano', 'Neptuno']\n"
     ]
    }
   ],
   "source": [
    "print(f\"Aquí estan los planetas más lejos del sol que {entrada}:\"\"\")\n",
    "print( planetas [busca+1:len(planetas)])\n"
   ]
  }
 ],
 "metadata": {
  "interpreter": {
   "hash": "3e9dc76609e876f93a002d072134b50ee5e38b45a6be20c9eadd33b5f9f5c906"
  },
  "kernelspec": {
   "display_name": "Python 3.10.2 64-bit",
   "language": "python",
   "name": "python3"
  },
  "language_info": {
   "codemirror_mode": {
    "name": "ipython",
    "version": 3
   },
   "file_extension": ".py",
   "mimetype": "text/x-python",
   "name": "python",
   "nbconvert_exporter": "python",
   "pygments_lexer": "ipython3",
   "version": "3.10.2"
  },
  "orig_nbformat": 4
 },
 "nbformat": 4,
 "nbformat_minor": 2
}
